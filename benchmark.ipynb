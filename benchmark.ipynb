{
 "cells": [
  {
   "cell_type": "code",
   "execution_count": 2,
   "metadata": {},
   "outputs": [],
   "source": [
    "import pandas as pd"
   ]
  },
  {
   "cell_type": "code",
   "execution_count": null,
   "metadata": {},
   "outputs": [],
   "source": [
    "test_excel_path = \"pcast_test.xlsx\"\n",
    "test_df = pd.read_excel(test_excel_path)\n",
    "test_df.head()"
   ]
  },
  {
   "cell_type": "code",
   "execution_count": null,
   "metadata": {},
   "outputs": [],
   "source": [
    "test_df[\"Date\"]"
   ]
  },
  {
   "cell_type": "code",
   "execution_count": 33,
   "metadata": {},
   "outputs": [],
   "source": [
    "# Mundie, Craig|Cassel, Christine K. (Christine Karen), 1945-|President's Council of Advisors on Science and Technology (PCAST)\n",
    "exp_lst = test_df[\"People and Organizations\"][1].split(\"|\")\n",
    "cleaned_lst = []\n",
    "for exp in exp_lst:\n",
    "    exp = exp.strip()\n",
    "    if \"(PCAST)\" in exp:\n",
    "        cleaned_lst.append(exp[:-7])\n",
    "    elif \", \" in exp:\n",
    "        if  \"(\" in exp and \")\" in exp:\n",
    "            lparen = exp.index(\"(\") + 1\n",
    "            rparen = exp.index(\")\")\n",
    "            comma_idx = exp.index(\",\")\n",
    "            cleaned_lst.append(exp[lparen:rparen] + \" \" + exp[:comma_idx])\n",
    "        else:\n",
    "            comma_idx = exp.index(\",\")\n",
    "            cleaned_lst.append(exp[comma_idx+1: ]+ \" \" + exp[:comma_idx])\n",
    "    else:\n",
    "        cleaned_lst.append(exp)"
   ]
  },
  {
   "cell_type": "code",
   "execution_count": 34,
   "metadata": {},
   "outputs": [
    {
     "data": {
      "text/plain": [
       "[' Craig Mundie',\n",
       " 'Christine Karen Cassel',\n",
       " \"President's Council of Advisors on Science and Technology \"]"
      ]
     },
     "execution_count": 34,
     "metadata": {},
     "output_type": "execute_result"
    }
   ],
   "source": [
    "cleaned_lst"
   ]
  },
  {
   "cell_type": "code",
   "execution_count": null,
   "metadata": {},
   "outputs": [],
   "source": [
    "test_df[\"Description\"]"
   ]
  },
  {
   "cell_type": "code",
   "execution_count": null,
   "metadata": {},
   "outputs": [],
   "source": [
    "test_df[\"Subject\"]"
   ]
  },
  {
   "cell_type": "code",
   "execution_count": null,
   "metadata": {},
   "outputs": [],
   "source": [
    "benchmark_excel_path = \"/Users/amarkanaka/Desktop/gemini_benchmark.csv\"\n",
    "benchmark_df = pd.read_csv(benchmark_excel_path)\n",
    "benchmark_df.head()"
   ]
  },
  {
   "cell_type": "code",
   "execution_count": 24,
   "metadata": {},
   "outputs": [
    {
     "data": {
      "text/plain": [
       "[\"'Executive Office of the President'\",\n",
       " ' \"President\\'s Council of Advisors on Science and Technology\"',\n",
       " \" 'John P. Holdren'\",\n",
       " \" 'Office of Science and Technology Policy'\",\n",
       " \" 'Eric Lander'\",\n",
       " \" 'Broad Institute of Harvard and MIT'\",\n",
       " \" 'Harold Varmus'\",\n",
       " \" 'Memorial Sloan-Kettering Cancer Center'\",\n",
       " \" 'Rosina Bierbaum'\",\n",
       " \" 'University of Michigan'\",\n",
       " \" 'Christine Cassel'\",\n",
       " \" 'American Board of Internal Medicine'\",\n",
       " \" 'Christopher Chyba'\",\n",
       " \" 'Princeton University'\",\n",
       " \" 'S. James Gates\",\n",
       " \" Jr.'\",\n",
       " \" 'University of Maryland\",\n",
       " \" College Park'\",\n",
       " \" 'Shirley Ann Jackson'\",\n",
       " \" 'Rensselaer Polytechnic Institute'\",\n",
       " \" 'Richard C. Levin'\",\n",
       " \" 'Yale University'\",\n",
       " \" 'Chad Mirkin'\",\n",
       " \" 'Northwestern University'\",\n",
       " \" 'Mario Molina'\",\n",
       " \" 'University of California\",\n",
       " \" San Diego'\",\n",
       " \" 'Scripps Institution of Oceanography'\",\n",
       " \" 'Ernest J. Moniz'\",\n",
       " \" 'Massachusetts Institute of Technology'\",\n",
       " \" 'Craig Mundie'\",\n",
       " \" 'Microsoft Corporation'\",\n",
       " \" 'Ed Penhoet'\",\n",
       " \" 'Alta Partners'\",\n",
       " \" 'Immune Design'\",\n",
       " \" 'Metabolex'\",\n",
       " \" 'William Press'\",\n",
       " \" 'University of Texas at Austin'\",\n",
       " \" 'Maxine Savitz'\",\n",
       " \" 'National Academy of Engineering'\",\n",
       " \" 'Barbara Schaal'\",\n",
       " \" 'Washington University\",\n",
       " \" St. Louis'\",\n",
       " \" 'National Academy of Sciences'\",\n",
       " \" 'Eric Schmidt'\",\n",
       " \" 'Google\",\n",
       " \" Inc.'\",\n",
       " \" 'Daniel Schrag'\",\n",
       " \" 'Harvard University'\",\n",
       " \" 'David E. Shaw'\",\n",
       " \" 'D. E. Shaw Research'\",\n",
       " \" 'Columbia University'\",\n",
       " \" 'Ahmed Zewail'\",\n",
       " \" 'California Institute of Technology'\",\n",
       " \" 'Deborah Stine'\",\n",
       " \" 'Mary Maxon'\",\n",
       " \" 'Barack Obama'\",\n",
       " \" 'Ann M. Arvin'\",\n",
       " \" 'Stanford University'\",\n",
       " \" 'Emilio A. Emini'\",\n",
       " \" 'Wyeth Pharmaceuticals'\",\n",
       " \" 'Harvey V. Fineberg'\",\n",
       " \" 'Institute of Medicine'\",\n",
       " \" 'Don Ganem'\",\n",
       " \" 'Howard Hughes Medical Institute'\",\n",
       " \" 'University of California San Francisco'\",\n",
       " \" 'Marcelle Layton'\",\n",
       " \" 'New York City Department of Health'\",\n",
       " \" 'Marc Lipsitch'\",\n",
       " \" 'Harvard School of Public Health'\",\n",
       " \" 'Arnold S. Monto'\",\n",
       " \" 'University of Michigan School of Public Health'\",\n",
       " \" 'Peter Palese'\",\n",
       " \" 'Mount Sinai School of Medicine'\",\n",
       " \" 'Rajeev Venkayya'\",\n",
       " \" 'Bill & Melinda Gates Foundation'\",\n",
       " \" 'Robert G. Webster'\",\n",
       " ' \"St. Jude Children\\'s Research Hospital\"',\n",
       " \" 'Richard J. Whitley'\",\n",
       " \" 'University of Alabama at Birmigham'\",\n",
       " \" 'Peter Emanuel'\"]"
      ]
     },
     "execution_count": 24,
     "metadata": {},
     "output_type": "execute_result"
    }
   ],
   "source": [
    "benchmark_df[\" People and Organizations\"][0][1:-1].split(\",\")"
   ]
  },
  {
   "cell_type": "code",
   "execution_count": 39,
   "metadata": {},
   "outputs": [
    {
     "name": "stdout",
     "output_type": "stream",
     "text": [
      " Craig Mundie\n",
      " Craig Mundie\n",
      " Christine Cassel\n",
      "Christine Karen Cassel\n",
      "President's Council of Advisors on Science and Technology\n",
      "President's Council of Advisors on Science and Technology \n",
      "1.0\n"
     ]
    },
    {
     "data": {
      "text/plain": [
       "True"
      ]
     },
     "execution_count": 39,
     "metadata": {},
     "output_type": "execute_result"
    }
   ],
   "source": [
    "from fuzzywuzzy import fuzz\n",
    "# people and organizations benchmark\n",
    "def ppl_orgs_recall_match_v1(gt_entry, bm_list, recall_threshold=0.75, fuzzy_threshold=75):\n",
    "\n",
    "    # get list of benchmark names\n",
    "    bm_clean = bm_list\n",
    "    if bm_clean[0] == \"[\" :\n",
    "        bm_clean = bm_clean[1:]\n",
    "    if bm_clean[-1] == \"]\":\n",
    "        bm_clean = bm_clean[:-1]\n",
    "    bm_clean = bm_clean.split(\",\")\n",
    "\n",
    "    \"\"\"\n",
    "    get list of ground truth names and orgs, taking out dates, flipping names, and\n",
    "    removing parentheses at the same time\n",
    "    \"\"\"\n",
    "\n",
    "    gt_entry_lst = gt_entry.split(\"|\")\n",
    "    cleaned_lst = []\n",
    "    for exp in gt_entry_lst:\n",
    "        exp = exp.strip()\n",
    "        if \"(PCAST)\" in exp:\n",
    "            cleaned_lst.append(exp[:-7])\n",
    "        elif \", \" in exp:\n",
    "            if  \"(\" in exp and \")\" in exp:\n",
    "                lparen = exp.index(\"(\") + 1\n",
    "                rparen = exp.index(\")\")\n",
    "                comma_idx = exp.index(\",\")\n",
    "                cleaned_lst.append(exp[lparen:rparen] + \" \" + exp[:comma_idx])\n",
    "            else:\n",
    "                comma_idx = exp.index(\",\")\n",
    "                cleaned_lst.append(exp[comma_idx+1: ]+ \" \" + exp[:comma_idx])\n",
    "        else:\n",
    "            cleaned_lst.append(exp)\n",
    "    \n",
    "    match_count = 0\n",
    "\n",
    "    for gt_entity in cleaned_lst:\n",
    "        # Check if any benchmark entity matches this ground truth entity\n",
    "        for bm_entity in bm_clean:\n",
    "            if fuzz.token_set_ratio(gt_entity, bm_entity) >= fuzzy_threshold:\n",
    "                print(bm_entity)\n",
    "                print(gt_entity)\n",
    "                match_count += 1\n",
    "                break\n",
    "\n",
    "    # percentage of ground truth found\n",
    "    recall = match_count / len(cleaned_lst)\n",
    "    print(recall)\n",
    "    return recall >= recall_threshold\n",
    "\n",
    "ppl_orgs_recall_match_v1(test_df[\"People and Organizations\"][1], benchmark_df[\" People and Organizations\"][1])\n"
   ]
  },
  {
   "cell_type": "code",
   "execution_count": null,
   "metadata": {},
   "outputs": [],
   "source": [
    "\n",
    "def entity_recall_match(gt_list, bm_list, recall_threshold=0.75, fuzzy_threshold=75):\n",
    "    gt_clean = clean_entities(gt_list)\n",
    "    bm_clean = clean_entities(bm_list)\n",
    "\n",
    "    if not gt_clean:\n",
    "        return False\n",
    "\n",
    "    match_count = 0\n",
    "    for gt_entity in gt_clean:\n",
    "        # Check if any benchmark entity matches this ground truth entity\n",
    "        for bm_entity in bm_clean:\n",
    "            if fuzz.token_set_ratio(gt_entity, bm_entity) >= fuzzy_threshold:\n",
    "                match_count += 1\n",
    "                break\n",
    "\n",
    "    # percentage of ground truth found\n",
    "    recall = match_count / len(gt_clean)\n",
    "    return recall >= recall_threshold"
   ]
  }
 ],
 "metadata": {
  "kernelspec": {
   "display_name": "faiss_1.8.0_new_env",
   "language": "python",
   "name": "python3"
  },
  "language_info": {
   "codemirror_mode": {
    "name": "ipython",
    "version": 3
   },
   "file_extension": ".py",
   "mimetype": "text/x-python",
   "name": "python",
   "nbconvert_exporter": "python",
   "pygments_lexer": "ipython3",
   "version": "3.10.13"
  }
 },
 "nbformat": 4,
 "nbformat_minor": 2
}
